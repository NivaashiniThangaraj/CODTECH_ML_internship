{
  "nbformat": 4,
  "nbformat_minor": 0,
  "metadata": {
    "colab": {
      "provenance": []
    },
    "kernelspec": {
      "name": "python3",
      "display_name": "Python 3"
    },
    "language_info": {
      "name": "python"
    }
  },
  "cells": [
    {
      "cell_type": "code",
      "execution_count": null,
      "metadata": {
        "id": "OXryq8MNeB2t"
      },
      "outputs": [],
      "source": [
        "import pandas as pd\n",
        "import numpy as np\n",
        "from sklearn.metrics.pairwise import cosine_similarity\n",
        "\n",
        "def load_data():\n",
        "    ratings = pd.read_csv(\"ml-100k/u.data\", sep='\\t', names=['user', 'item', 'rating', 'timestamp'])\n",
        "    movies = pd.read_csv(\"ml-100k/u.item\", sep='|', encoding='latin-1', header=None, usecols=[0, 1], names=['item', 'title'])\n",
        "    ratings = ratings.drop(columns='timestamp').merge(movies, on='item')\n",
        "    return ratings\n",
        "\n",
        "def create_matrix(ratings):\n",
        "    return ratings.pivot_table(index='user', columns='title', values='rating').fillna(0)\n",
        "\n",
        "def train_similarity(user_item_matrix):\n",
        "    item_sim = cosine_similarity(user_item_matrix.T)\n",
        "    user_sim = cosine_similarity(user_item_matrix)\n",
        "    return pd.DataFrame(item_sim, index=user_item_matrix.columns, columns=user_item_matrix.columns), \\\n",
        "           pd.DataFrame(user_sim, index=user_item_matrix.index, columns=user_item_matrix.index)\n",
        "\n",
        "def item_based_recommend(user_id, user_item_matrix, item_sim_df, n=5):\n",
        "    user_ratings = user_item_matrix.loc[user_id]\n",
        "    scores = {}\n",
        "\n",
        "    for item in user_item_matrix.columns:\n",
        "        if user_ratings[item] == 0:\n",
        "            sim_scores = item_sim_df[item]\n",
        "            weighted_sum = np.dot(sim_scores, user_ratings)\n",
        "            sum_sims = sim_scores[user_ratings > 0].sum()\n",
        "            scores[item] = weighted_sum / (sum_sims + 1e-9)\n",
        "\n",
        "    recommended = sorted(scores.items(), key=lambda x: x[1], reverse=True)[:n]\n",
        "    return recommended\n",
        "\n",
        "def user_based_recommend(user_id, user_item_matrix, user_sim_df, n=5):\n",
        "    similar_users = user_sim_df[user_id].drop(user_id)\n",
        "    weighted_ratings = pd.Series(dtype='float64')\n",
        "\n",
        "    for other_user, similarity in similar_users.items():\n",
        "        other_ratings = user_item_matrix.loc[other_user]\n",
        "        weighted_ratings = weighted_ratings.add(other_ratings * similarity, fill_value=0)\n",
        "\n",
        "    user_ratings = user_item_matrix.loc[user_id]\n",
        "    scores = weighted_ratings / (similar_users.sum() + 1e-9)\n",
        "    scores = scores[user_ratings == 0]\n",
        "\n",
        "    return list(scores.sort_values(ascending=False).head(n).items())"
      ]
    }
  ]
}